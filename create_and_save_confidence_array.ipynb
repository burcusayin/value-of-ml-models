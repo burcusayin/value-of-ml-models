{
  "nbformat": 4,
  "nbformat_minor": 0,
  "metadata": {
    "colab": {
      "name": "create_and_save_confidence_array.ipynb",
      "provenance": [],
      "collapsed_sections": []
    },
    "kernelspec": {
      "name": "python3",
      "display_name": "Python 3"
    },
    "language_info": {
      "name": "python"
    }
  },
  "cells": [
    {
      "cell_type": "code",
      "execution_count": null,
      "metadata": {
        "id": "-l_aP-SWja2_"
      },
      "outputs": [],
      "source": [
        "#This notebook shows an example code to save the confidence values of your model as a numpy array\n",
        "#As an example, we use Logistic Regression with TFIDF"
      ]
    },
    {
      "cell_type": "code",
      "source": [
        "!pip install sklearn\n",
        "import numpy as np\n",
        "import pandas as pd \n",
        "import csv\n",
        "from sklearn.linear_model import LogisticRegression\n",
        "from sklearn.feature_extraction.text import TfidfVectorizer, TfidfTransformer, CountVectorizer"
      ],
      "metadata": {
        "id": "lCD-gioyjsrk"
      },
      "execution_count": null,
      "outputs": []
    },
    {
      "cell_type": "code",
      "source": [
        "#specify the required info here and run the notebook to receive value analysis result for your model\n",
        "modelName = 'name_of_your_model'\n",
        "resPath = 'define_the_path_for_results'\n",
        "data_folder = 'define_the_path_where_you_keep_the_confidence_values_of_your_model_and_the_datasets'\n",
        "dataToTrain = 'name_of_training_set.csv'\n",
        "dataToVal = 'name_of_validation_set.csv'\n",
        "dataToTest ='name_of_test_set.csv'\n",
        "ground_truth_column = 'specify_the_column_for_ground_truth_in_your_csv_files'\n",
        "txt = 'specify_the_column_for_text_in_your_csv_files'\n",
        "datasetName = 'name_of_your_dataset'"
      ],
      "metadata": {
        "id": "-55iHrzcj2YO"
      },
      "execution_count": null,
      "outputs": []
    },
    {
      "cell_type": "code",
      "source": [
        "confidences_train = '{}_train_{}_conf.npy'.format(datasetName,modelName)\n",
        "confidences_val = '{}_val_{}_conf.npy'.format(datasetName,modelName)\n",
        "confidences_test = '{}_test_{}_conf.npy'.format(datasetName,modelName)\n",
        "\n",
        "model = LogisticRegression()"
      ],
      "metadata": {
        "id": "YxtYCSXij4Sw"
      },
      "execution_count": null,
      "outputs": []
    },
    {
      "cell_type": "code",
      "source": [
        "# Read data\n",
        "train = pd.read_csv(data_folder + dataToTrain)\n",
        "train = train.dropna()\n",
        "train = train.reset_index(drop=True)\n",
        "val = pd.read_csv(data_folder + dataToVal)\n",
        "val = val.dropna()\n",
        "val = val.reset_index(drop=True)\n",
        "test = pd.read_csv(data_folder + dataToTest)\n",
        "test = test.dropna()\n",
        "test = test.reset_index(drop=True)\n",
        "\n",
        "# Vectorize the text\n",
        "tfidf = TfidfVectorizer(min_df=0, max_features = maxTfIdfFeat, strip_accents='unicode', analyzer='word', token_pattern=r'\\w{1,}',\n",
        "                ngram_range=(1, 1), use_idf=1, smooth_idf=1, sublinear_tf=1,\n",
        "                stop_words='english', lowercase=False)\n",
        "\n",
        "def prepare_features(tfidf, X_train, setN):\n",
        "    # compute tfidf features\n",
        "    if setN == 'train':\n",
        "        X_train_tfidf = tfidf.fit_transform(X_train).toarray()\n",
        "    else:\n",
        "        X_train_tfidf = tfidf.transform(X_train).toarray()\n",
        "    return X_train_tfidf\n",
        "\n",
        "#load the data features\n",
        "X_train = prepare_features(tfidf, train[txt].tolist(), 'train')\n",
        "y_train = train[ground_truth_column].values\n",
        "\n",
        "X_val = prepare_features(tfidf, val[txt].tolist(), 'val')\n",
        "y_val = val[ground_truth_column].values\n",
        "\n",
        "X_test = prepare_features(tfidf, test[txt].tolist(), 'test')\n",
        "y_test = test[ground_truth_column].values"
      ],
      "metadata": {
        "id": "UNQOeidTlR_g"
      },
      "execution_count": null,
      "outputs": []
    },
    {
      "cell_type": "code",
      "source": [
        "model.fit(X_train, y_train)"
      ],
      "metadata": {
        "id": "GmaJcdk-ls8O"
      },
      "execution_count": null,
      "outputs": []
    },
    {
      "cell_type": "code",
      "source": [
        "conf_train = model.predict_proba(X_train)\n",
        "conf_val = model.predict_proba(X_train)\n",
        "conf_test = model.predict_proba(X_train)\n",
        "\n",
        "np.save(data_folder + confidences_train, conf_train)\n",
        "np.save(data_folder + confidences_val, conf_val)\n",
        "np.save(data_folder + confidences_test, conf_test)"
      ],
      "metadata": {
        "id": "nc7nn656lteR"
      },
      "execution_count": null,
      "outputs": []
    }
  ]
}